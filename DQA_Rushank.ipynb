{
 "cells": [
  {
   "cell_type": "markdown",
   "id": "fd2b1bb3-d4fe-4f78-82da-412b290ec8b8",
   "metadata": {},
   "source": [
    ">#### <i>Data Quality Assessment ~ Rushank Ghanshyam Sheta</i><hr>What I have explored here is a part of data validation, further univariate, bivariate, multivariate analysis and EDA can be performed after data cleaning is done."
   ]
  },
  {
   "cell_type": "code",
   "execution_count": 72,
   "id": "15d32b5f-7e18-4eb8-9995-70b5c4f0a6b6",
   "metadata": {
    "tags": []
   },
   "outputs": [],
   "source": [
    "import numpy as np\n",
    "import pandas as pd\n",
    "import os\n",
    "import matplotlib.pyplot as plt\n",
    "import seaborn as snsx\n",
    "\n",
    "%matplotlib inline\n",
    "import matplotlib\n",
    "sns.set(style=\"whitegrid\", font_scale=1.3)\n",
    "matplotlib.rcParams[\"figure.figsize\"] = (7,5)\n",
    "matplotlib.rcParams[\"legend.framealpha\"] = 1\n",
    "matplotlib.rcParams[\"legend.frameon\"] = True"
   ]
  },
  {
   "cell_type": "code",
   "execution_count": 73,
   "id": "bcca2799-c193-44ac-acd5-4a4330cdc072",
   "metadata": {},
   "outputs": [],
   "source": [
    "def info(df, n=2, c=1):\n",
    "    if c: print(list(df.columns))\n",
    "    print('DF Shape: ',df.shape)\n",
    "    return df.head(n)"
   ]
  },
  {
   "cell_type": "code",
   "execution_count": 74,
   "id": "152eb05f-718d-4792-9429-368efcdea424",
   "metadata": {
    "tags": []
   },
   "outputs": [
    {
     "name": "stderr",
     "output_type": "stream",
     "text": [
      "/var/folders/f4/x3f17tf94sq8z7mhzysfrsn80000gn/T/ipykernel_54883/724065175.py:1: FutureWarning: Inferring datetime64[ns] from data containing strings is deprecated and will be removed in a future version. To retain the old behavior explicitly pass Series(data, dtype=datetime64[ns])\n",
      "  CD = pd.read_excel('KPMG_VI_New_raw_data_update_final.xlsx', sheet_name='CustomerDemographic', skiprows=[0])\n"
     ]
    }
   ],
   "source": [
    "CD = pd.read_excel('KPMG_VI_New_raw_data_update_final.xlsx', sheet_name='CustomerDemographic', skiprows=[0])\n",
    "CA = pd.read_excel('KPMG_VI_New_raw_data_update_final.xlsx', sheet_name='CustomerAddress', skiprows=[0])\n",
    "T = pd.read_excel('KPMG_VI_New_raw_data_update_final.xlsx', sheet_name='Transactions', skiprows=[0])\n",
    "# NCL = pd.read_excel('KPMG_VI_New_raw_data_update_final.xlsx', sheet_name='NewCustomerList', skiprows=[0])"
   ]
  },
  {
   "cell_type": "markdown",
   "id": "67bcccdd-f412-4d92-a867-d0854be02db2",
   "metadata": {
    "jp-MarkdownHeadingCollapsed": true,
    "tags": []
   },
   "source": [
    "## For Customer Demographic DataFrame<hr>"
   ]
  },
  {
   "cell_type": "code",
   "execution_count": 59,
   "id": "5909c684-ea3a-4dcb-8be8-027919f91c58",
   "metadata": {},
   "outputs": [
    {
     "name": "stdout",
     "output_type": "stream",
     "text": [
      "['customer_id', 'first_name', 'last_name', 'gender', 'past_3_years_bike_related_purchases', 'DOB', 'job_title', 'job_industry_category', 'wealth_segment', 'deceased_indicator', 'default', 'owns_car', 'tenure']\n",
      "DF Shape:  (4000, 13)\n"
     ]
    },
    {
     "data": {
      "text/html": [
       "<div>\n",
       "<style scoped>\n",
       "    .dataframe tbody tr th:only-of-type {\n",
       "        vertical-align: middle;\n",
       "    }\n",
       "\n",
       "    .dataframe tbody tr th {\n",
       "        vertical-align: top;\n",
       "    }\n",
       "\n",
       "    .dataframe thead th {\n",
       "        text-align: right;\n",
       "    }\n",
       "</style>\n",
       "<table border=\"1\" class=\"dataframe\">\n",
       "  <thead>\n",
       "    <tr style=\"text-align: right;\">\n",
       "      <th></th>\n",
       "      <th>customer_id</th>\n",
       "      <th>first_name</th>\n",
       "      <th>last_name</th>\n",
       "      <th>gender</th>\n",
       "      <th>past_3_years_bike_related_purchases</th>\n",
       "      <th>DOB</th>\n",
       "      <th>job_title</th>\n",
       "      <th>job_industry_category</th>\n",
       "      <th>wealth_segment</th>\n",
       "      <th>deceased_indicator</th>\n",
       "      <th>default</th>\n",
       "      <th>owns_car</th>\n",
       "      <th>tenure</th>\n",
       "    </tr>\n",
       "  </thead>\n",
       "  <tbody>\n",
       "    <tr>\n",
       "      <th>0</th>\n",
       "      <td>1</td>\n",
       "      <td>Laraine</td>\n",
       "      <td>Medendorp</td>\n",
       "      <td>F</td>\n",
       "      <td>93</td>\n",
       "      <td>1953-10-12</td>\n",
       "      <td>Executive Secretary</td>\n",
       "      <td>Health</td>\n",
       "      <td>Mass Customer</td>\n",
       "      <td>N</td>\n",
       "      <td>\"'</td>\n",
       "      <td>Yes</td>\n",
       "      <td>11.0</td>\n",
       "    </tr>\n",
       "    <tr>\n",
       "      <th>1</th>\n",
       "      <td>2</td>\n",
       "      <td>Eli</td>\n",
       "      <td>Bockman</td>\n",
       "      <td>Male</td>\n",
       "      <td>81</td>\n",
       "      <td>1980-12-16</td>\n",
       "      <td>Administrative Officer</td>\n",
       "      <td>Financial Services</td>\n",
       "      <td>Mass Customer</td>\n",
       "      <td>N</td>\n",
       "      <td>&lt;script&gt;alert('hi')&lt;/script&gt;</td>\n",
       "      <td>Yes</td>\n",
       "      <td>16.0</td>\n",
       "    </tr>\n",
       "  </tbody>\n",
       "</table>\n",
       "</div>"
      ],
      "text/plain": [
       "   customer_id first_name  last_name gender  \\\n",
       "0            1    Laraine  Medendorp      F   \n",
       "1            2        Eli    Bockman   Male   \n",
       "\n",
       "   past_3_years_bike_related_purchases        DOB               job_title  \\\n",
       "0                                   93 1953-10-12     Executive Secretary   \n",
       "1                                   81 1980-12-16  Administrative Officer   \n",
       "\n",
       "  job_industry_category wealth_segment deceased_indicator  \\\n",
       "0                Health  Mass Customer                  N   \n",
       "1    Financial Services  Mass Customer                  N   \n",
       "\n",
       "                        default owns_car  tenure  \n",
       "0                            \"'      Yes    11.0  \n",
       "1  <script>alert('hi')</script>      Yes    16.0  "
      ]
     },
     "execution_count": 59,
     "metadata": {},
     "output_type": "execute_result"
    }
   ],
   "source": [
    "info(CD)"
   ]
  },
  {
   "cell_type": "code",
   "execution_count": 60,
   "id": "151c3740-7792-4215-815b-9274aa6b23e8",
   "metadata": {},
   "outputs": [
    {
     "data": {
      "text/html": [
       "<div>\n",
       "<style scoped>\n",
       "    .dataframe tbody tr th:only-of-type {\n",
       "        vertical-align: middle;\n",
       "    }\n",
       "\n",
       "    .dataframe tbody tr th {\n",
       "        vertical-align: top;\n",
       "    }\n",
       "\n",
       "    .dataframe thead th {\n",
       "        text-align: right;\n",
       "    }\n",
       "</style>\n",
       "<table border=\"1\" class=\"dataframe\">\n",
       "  <thead>\n",
       "    <tr style=\"text-align: right;\">\n",
       "      <th></th>\n",
       "      <th>customer_id</th>\n",
       "      <th>first_name</th>\n",
       "      <th>last_name</th>\n",
       "      <th>gender</th>\n",
       "      <th>past_3_years_bike_related_purchases</th>\n",
       "      <th>DOB</th>\n",
       "      <th>job_title</th>\n",
       "      <th>job_industry_category</th>\n",
       "      <th>wealth_segment</th>\n",
       "      <th>deceased_indicator</th>\n",
       "      <th>default</th>\n",
       "      <th>owns_car</th>\n",
       "      <th>tenure</th>\n",
       "    </tr>\n",
       "  </thead>\n",
       "  <tbody>\n",
       "    <tr>\n",
       "      <th>0</th>\n",
       "      <td>1</td>\n",
       "      <td>Laraine</td>\n",
       "      <td>Medendorp</td>\n",
       "      <td>F</td>\n",
       "      <td>93</td>\n",
       "      <td>1953-10-12</td>\n",
       "      <td>Executive Secretary</td>\n",
       "      <td>Health</td>\n",
       "      <td>Mass Customer</td>\n",
       "      <td>N</td>\n",
       "      <td>\"'</td>\n",
       "      <td>Yes</td>\n",
       "      <td>11.0</td>\n",
       "    </tr>\n",
       "    <tr>\n",
       "      <th>1</th>\n",
       "      <td>2</td>\n",
       "      <td>Eli</td>\n",
       "      <td>Bockman</td>\n",
       "      <td>Male</td>\n",
       "      <td>81</td>\n",
       "      <td>1980-12-16</td>\n",
       "      <td>Administrative Officer</td>\n",
       "      <td>Financial Services</td>\n",
       "      <td>Mass Customer</td>\n",
       "      <td>N</td>\n",
       "      <td>&lt;script&gt;alert('hi')&lt;/script&gt;</td>\n",
       "      <td>Yes</td>\n",
       "      <td>16.0</td>\n",
       "    </tr>\n",
       "    <tr>\n",
       "      <th>2</th>\n",
       "      <td>3</td>\n",
       "      <td>Arlin</td>\n",
       "      <td>Dearle</td>\n",
       "      <td>Male</td>\n",
       "      <td>61</td>\n",
       "      <td>1954-01-20</td>\n",
       "      <td>Recruiting Manager</td>\n",
       "      <td>Property</td>\n",
       "      <td>Mass Customer</td>\n",
       "      <td>N</td>\n",
       "      <td>2018-02-01 00:00:00</td>\n",
       "      <td>Yes</td>\n",
       "      <td>15.0</td>\n",
       "    </tr>\n",
       "    <tr>\n",
       "      <th>3</th>\n",
       "      <td>4</td>\n",
       "      <td>Talbot</td>\n",
       "      <td>NaN</td>\n",
       "      <td>Male</td>\n",
       "      <td>33</td>\n",
       "      <td>1961-10-03</td>\n",
       "      <td>NaN</td>\n",
       "      <td>IT</td>\n",
       "      <td>Mass Customer</td>\n",
       "      <td>N</td>\n",
       "      <td>() { _; } &gt;_[$($())] { touch /tmp/blns.shellsh...</td>\n",
       "      <td>No</td>\n",
       "      <td>7.0</td>\n",
       "    </tr>\n",
       "    <tr>\n",
       "      <th>4</th>\n",
       "      <td>5</td>\n",
       "      <td>Sheila-kathryn</td>\n",
       "      <td>Calton</td>\n",
       "      <td>Female</td>\n",
       "      <td>56</td>\n",
       "      <td>1977-05-13</td>\n",
       "      <td>Senior Editor</td>\n",
       "      <td>NaN</td>\n",
       "      <td>Affluent Customer</td>\n",
       "      <td>N</td>\n",
       "      <td>NIL</td>\n",
       "      <td>Yes</td>\n",
       "      <td>8.0</td>\n",
       "    </tr>\n",
       "  </tbody>\n",
       "</table>\n",
       "</div>"
      ],
      "text/plain": [
       "   customer_id      first_name  last_name  gender  \\\n",
       "0            1         Laraine  Medendorp       F   \n",
       "1            2             Eli    Bockman    Male   \n",
       "2            3           Arlin     Dearle    Male   \n",
       "3            4          Talbot        NaN    Male   \n",
       "4            5  Sheila-kathryn     Calton  Female   \n",
       "\n",
       "   past_3_years_bike_related_purchases        DOB               job_title  \\\n",
       "0                                   93 1953-10-12     Executive Secretary   \n",
       "1                                   81 1980-12-16  Administrative Officer   \n",
       "2                                   61 1954-01-20      Recruiting Manager   \n",
       "3                                   33 1961-10-03                     NaN   \n",
       "4                                   56 1977-05-13           Senior Editor   \n",
       "\n",
       "  job_industry_category     wealth_segment deceased_indicator  \\\n",
       "0                Health      Mass Customer                  N   \n",
       "1    Financial Services      Mass Customer                  N   \n",
       "2              Property      Mass Customer                  N   \n",
       "3                    IT      Mass Customer                  N   \n",
       "4                   NaN  Affluent Customer                  N   \n",
       "\n",
       "                                             default owns_car  tenure  \n",
       "0                                                 \"'      Yes    11.0  \n",
       "1                       <script>alert('hi')</script>      Yes    16.0  \n",
       "2                                2018-02-01 00:00:00      Yes    15.0  \n",
       "3  () { _; } >_[$($())] { touch /tmp/blns.shellsh...       No     7.0  \n",
       "4                                                NIL      Yes     8.0  "
      ]
     },
     "execution_count": 60,
     "metadata": {},
     "output_type": "execute_result"
    }
   ],
   "source": [
    "CD.head()"
   ]
  },
  {
   "cell_type": "code",
   "execution_count": 89,
   "id": "df7eb0f0-6dd4-402e-8cb4-de5b416f75dc",
   "metadata": {},
   "outputs": [
    {
     "name": "stdout",
     "output_type": "stream",
     "text": [
      "<class 'pandas.core.frame.DataFrame'>\n",
      "RangeIndex: 4000 entries, 0 to 3999\n",
      "Data columns (total 13 columns):\n",
      " #   Column                               Non-Null Count  Dtype         \n",
      "---  ------                               --------------  -----         \n",
      " 0   customer_id                          4000 non-null   int64         \n",
      " 1   first_name                           4000 non-null   object        \n",
      " 2   last_name                            3875 non-null   object        \n",
      " 3   gender                               4000 non-null   object        \n",
      " 4   past_3_years_bike_related_purchases  4000 non-null   int64         \n",
      " 5   DOB                                  3913 non-null   datetime64[ns]\n",
      " 6   job_title                            3494 non-null   object        \n",
      " 7   job_industry_category                3344 non-null   object        \n",
      " 8   wealth_segment                       4000 non-null   object        \n",
      " 9   deceased_indicator                   4000 non-null   object        \n",
      " 10  default                              3698 non-null   object        \n",
      " 11  owns_car                             4000 non-null   object        \n",
      " 12  tenure                               3913 non-null   float64       \n",
      "dtypes: datetime64[ns](1), float64(1), int64(2), object(9)\n",
      "memory usage: 406.4+ KB\n"
     ]
    }
   ],
   "source": [
    "# check if columns have data of valid datatypes\n",
    "CD.info()"
   ]
  },
  {
   "cell_type": "code",
   "execution_count": 39,
   "id": "86708884-b9f8-46f4-b7d6-f90fffd27fbe",
   "metadata": {},
   "outputs": [
    {
     "data": {
      "text/plain": [
       "4000"
      ]
     },
     "execution_count": 39,
     "metadata": {},
     "output_type": "execute_result"
    }
   ],
   "source": [
    "# confirming if we have all the customer_id's unique\n",
    "CD['customer_id'].nunique()"
   ]
  },
  {
   "cell_type": "code",
   "execution_count": 7,
   "id": "5ce11163-dc20-4372-a684-474cd191de68",
   "metadata": {},
   "outputs": [
    {
     "data": {
      "text/plain": [
       "customer_id                              0\n",
       "first_name                               0\n",
       "last_name                              125\n",
       "gender                                   0\n",
       "past_3_years_bike_related_purchases      0\n",
       "DOB                                     87\n",
       "job_title                              506\n",
       "job_industry_category                  656\n",
       "wealth_segment                           0\n",
       "deceased_indicator                       0\n",
       "default                                302\n",
       "owns_car                                 0\n",
       "tenure                                  87\n",
       "dtype: int64"
      ]
     },
     "execution_count": 7,
     "metadata": {},
     "output_type": "execute_result"
    }
   ],
   "source": [
    "CD.isna().sum()"
   ]
  },
  {
   "cell_type": "code",
   "execution_count": 29,
   "id": "bf316aaf-8cb9-42c7-9aaf-20dd4adceecc",
   "metadata": {},
   "outputs": [
    {
     "name": "stdout",
     "output_type": "stream",
     "text": [
      "\t\t\tColumn: customer_id\n",
      "\t\t\tNo of Unique Values: 4000\n",
      "1       1\n",
      "2672    1\n",
      "2659    1\n",
      "2660    1\n",
      "2661    1\n",
      "       ..\n",
      "1339    1\n",
      "1340    1\n",
      "1341    1\n",
      "1342    1\n",
      "4000    1\n",
      "Name: customer_id, Length: 4000, dtype: int64\n",
      "-----\n",
      "\t\t\tColumn: first_name\n",
      "\t\t\tNo of Unique Values: 3139\n",
      "Max         5\n",
      "Tobe        5\n",
      "Timmie      5\n",
      "Kippy       4\n",
      "Pail        4\n",
      "           ..\n",
      "Katy        1\n",
      "Hakim       1\n",
      "Fanchon     1\n",
      "Jeanette    1\n",
      "Sarene      1\n",
      "Name: first_name, Length: 3139, dtype: int64\n",
      "-----\n",
      "\t\t\tColumn: last_name\n",
      "\t\t\tNo of Unique Values: 3725\n",
      "Pristnor     3\n",
      "Ramsdell     3\n",
      "Eager        2\n",
      "Zisneros     2\n",
      "Dredge       2\n",
      "            ..\n",
      "Whittock     1\n",
      "Carwithen    1\n",
      "Blas         1\n",
      "Dearlove     1\n",
      "Oldland      1\n",
      "Name: last_name, Length: 3725, dtype: int64\n",
      "-----\n",
      "\t\t\tColumn: gender\n",
      "\t\t\tNo of Unique Values: 6\n",
      "Female    2037\n",
      "Male      1872\n",
      "U           88\n",
      "F            1\n",
      "Femal        1\n",
      "M            1\n",
      "Name: gender, dtype: int64\n",
      "-----\n",
      "\t\t\tColumn: past_3_years_bike_related_purchases\n",
      "\t\t\tNo of Unique Values: 100\n",
      "16    56\n",
      "19    56\n",
      "67    54\n",
      "20    54\n",
      "2     50\n",
      "      ..\n",
      "8     28\n",
      "95    27\n",
      "85    27\n",
      "86    27\n",
      "92    24\n",
      "Name: past_3_years_bike_related_purchases, Length: 100, dtype: int64\n",
      "-----\n",
      "\t\t\tColumn: DOB\n",
      "\t\t\tNo of Unique Values: 3448\n",
      "1978-01-30    7\n",
      "1964-07-08    4\n",
      "1962-12-17    4\n",
      "1978-08-19    4\n",
      "1977-05-13    4\n",
      "             ..\n",
      "1989-06-16    1\n",
      "1998-09-30    1\n",
      "1985-03-11    1\n",
      "1989-10-23    1\n",
      "1991-11-05    1\n",
      "Name: DOB, Length: 3448, dtype: int64\n",
      "-----\n",
      "\t\t\tColumn: job_title\n",
      "\t\t\tNo of Unique Values: 195\n",
      "Business Systems Development Analyst    45\n",
      "Tax Accountant                          44\n",
      "Social Worker                           44\n",
      "Internal Auditor                        42\n",
      "Recruiting Manager                      41\n",
      "                                        ..\n",
      "Database Administrator I                 4\n",
      "Health Coach I                           3\n",
      "Health Coach III                         3\n",
      "Research Assistant III                   3\n",
      "Developer I                              1\n",
      "Name: job_title, Length: 195, dtype: int64\n",
      "-----\n",
      "\t\t\tColumn: job_industry_category\n",
      "\t\t\tNo of Unique Values: 9\n",
      "Manufacturing         799\n",
      "Financial Services    774\n",
      "Health                602\n",
      "Retail                358\n",
      "Property              267\n",
      "IT                    223\n",
      "Entertainment         136\n",
      "Argiculture           113\n",
      "Telecommunications     72\n",
      "Name: job_industry_category, dtype: int64\n",
      "-----\n",
      "\t\t\tColumn: wealth_segment\n",
      "\t\t\tNo of Unique Values: 3\n",
      "Mass Customer        2000\n",
      "High Net Worth       1021\n",
      "Affluent Customer     979\n",
      "Name: wealth_segment, dtype: int64\n",
      "-----\n",
      "\t\t\tColumn: deceased_indicator\n",
      "\t\t\tNo of Unique Values: 2\n",
      "N    3998\n",
      "Y       2\n",
      "Name: deceased_indicator, dtype: int64\n",
      "-----\n",
      "\t\t\tColumn: default\n",
      "\t\t\tNo of Unique Values: 90\n",
      "100                                       113\n",
      "1                                         112\n",
      "-1                                        111\n",
      "-100                                       99\n",
      "Ù¡Ù¢Ù£                                     53\n",
      "                                         ... \n",
      "testâ testâ«                               31\n",
      "/dev/null; touch /tmp/blns.fail ; echo     30\n",
      "âªâªtestâª                                 29\n",
      "ì¸ëë°í ë¥´                                 27\n",
      ",ãã»:*:ã»ãâ( â» Ï â» )ãã»:*:ã»ãâ           25\n",
      "Name: default, Length: 90, dtype: int64\n",
      "-----\n",
      "\t\t\tColumn: owns_car\n",
      "\t\t\tNo of Unique Values: 2\n",
      "Yes    2024\n",
      "No     1976\n",
      "Name: owns_car, dtype: int64\n",
      "-----\n",
      "\t\t\tColumn: tenure\n",
      "\t\t\tNo of Unique Values: 22\n",
      "7.0     235\n",
      "5.0     228\n",
      "11.0    221\n",
      "10.0    218\n",
      "16.0    215\n",
      "8.0     211\n",
      "18.0    208\n",
      "12.0    202\n",
      "9.0     200\n",
      "14.0    200\n",
      "6.0     192\n",
      "13.0    191\n",
      "4.0     191\n",
      "17.0    182\n",
      "15.0    179\n",
      "1.0     166\n",
      "3.0     160\n",
      "19.0    159\n",
      "2.0     150\n",
      "20.0     96\n",
      "22.0     55\n",
      "21.0     54\n",
      "Name: tenure, dtype: int64\n",
      "-----\n",
      "\t\t\tColumn: exists\n",
      "\t\t\tNo of Unique Values: 2\n",
      "True     3996\n",
      "False       4\n",
      "Name: exists, dtype: int64\n",
      "-----\n",
      "\t\t\tColumn: address_exists\n",
      "\t\t\tNo of Unique Values: 2\n",
      "True     3996\n",
      "False       4\n",
      "Name: address_exists, dtype: int64\n",
      "-----\n"
     ]
    }
   ],
   "source": [
    "# checking unique values for each columns\n",
    "for i in CD.columns:\n",
    "    print('\\t\\t\\tColumn: {}\\n\\t\\t\\tNo of Unique Values: {}\\n{}\\n-----'.format(i, CD[i].value_counts().shape[0],CD[i].value_counts()))"
   ]
  },
  {
   "cell_type": "markdown",
   "id": "e4eb4a13-0660-4463-8001-57e6eadfef87",
   "metadata": {
    "tags": []
   },
   "source": [
    "### Problems\n",
    "#### <i>Customer Demographic</i>\n",
    "<ol>\n",
    "    <li><b><u>Null values:</b></u> in columns last_name, DOB, job_title, job_industry_category, default, tenure.\n",
    "    <li><b><u>gender:</b></u> There are 6 different categories instead of just 3(Male, Female, Unknown).\n",
    "     <li><b><u>default:</b></u> There are many random characters(looks like scripting language).\n",
    "</ol>"
   ]
  },
  {
   "cell_type": "markdown",
   "id": "159d1942-689b-4a8a-a003-65dac3b070ad",
   "metadata": {
    "jp-MarkdownHeadingCollapsed": true,
    "tags": []
   },
   "source": [
    "## For Customer Address Data Frame<hr>"
   ]
  },
  {
   "cell_type": "code",
   "execution_count": 9,
   "id": "bc347e38-c551-484b-b47a-e3ea4659f547",
   "metadata": {},
   "outputs": [
    {
     "data": {
      "text/html": [
       "<div>\n",
       "<style scoped>\n",
       "    .dataframe tbody tr th:only-of-type {\n",
       "        vertical-align: middle;\n",
       "    }\n",
       "\n",
       "    .dataframe tbody tr th {\n",
       "        vertical-align: top;\n",
       "    }\n",
       "\n",
       "    .dataframe thead th {\n",
       "        text-align: right;\n",
       "    }\n",
       "</style>\n",
       "<table border=\"1\" class=\"dataframe\">\n",
       "  <thead>\n",
       "    <tr style=\"text-align: right;\">\n",
       "      <th></th>\n",
       "      <th>customer_id</th>\n",
       "      <th>address</th>\n",
       "      <th>postcode</th>\n",
       "      <th>state</th>\n",
       "      <th>country</th>\n",
       "      <th>property_valuation</th>\n",
       "    </tr>\n",
       "  </thead>\n",
       "  <tbody>\n",
       "    <tr>\n",
       "      <th>0</th>\n",
       "      <td>1</td>\n",
       "      <td>060 Morning Avenue</td>\n",
       "      <td>2016</td>\n",
       "      <td>New South Wales</td>\n",
       "      <td>Australia</td>\n",
       "      <td>10</td>\n",
       "    </tr>\n",
       "    <tr>\n",
       "      <th>1</th>\n",
       "      <td>2</td>\n",
       "      <td>6 Meadow Vale Court</td>\n",
       "      <td>2153</td>\n",
       "      <td>New South Wales</td>\n",
       "      <td>Australia</td>\n",
       "      <td>10</td>\n",
       "    </tr>\n",
       "    <tr>\n",
       "      <th>2</th>\n",
       "      <td>4</td>\n",
       "      <td>0 Holy Cross Court</td>\n",
       "      <td>4211</td>\n",
       "      <td>QLD</td>\n",
       "      <td>Australia</td>\n",
       "      <td>9</td>\n",
       "    </tr>\n",
       "    <tr>\n",
       "      <th>3</th>\n",
       "      <td>5</td>\n",
       "      <td>17979 Del Mar Point</td>\n",
       "      <td>2448</td>\n",
       "      <td>New South Wales</td>\n",
       "      <td>Australia</td>\n",
       "      <td>4</td>\n",
       "    </tr>\n",
       "    <tr>\n",
       "      <th>4</th>\n",
       "      <td>6</td>\n",
       "      <td>9 Oakridge Court</td>\n",
       "      <td>3216</td>\n",
       "      <td>VIC</td>\n",
       "      <td>Australia</td>\n",
       "      <td>9</td>\n",
       "    </tr>\n",
       "  </tbody>\n",
       "</table>\n",
       "</div>"
      ],
      "text/plain": [
       "   customer_id              address  postcode            state    country  \\\n",
       "0            1   060 Morning Avenue      2016  New South Wales  Australia   \n",
       "1            2  6 Meadow Vale Court      2153  New South Wales  Australia   \n",
       "2            4   0 Holy Cross Court      4211              QLD  Australia   \n",
       "3            5  17979 Del Mar Point      2448  New South Wales  Australia   \n",
       "4            6     9 Oakridge Court      3216              VIC  Australia   \n",
       "\n",
       "   property_valuation  \n",
       "0                  10  \n",
       "1                  10  \n",
       "2                   9  \n",
       "3                   4  \n",
       "4                   9  "
      ]
     },
     "execution_count": 9,
     "metadata": {},
     "output_type": "execute_result"
    }
   ],
   "source": [
    "CA.head()"
   ]
  },
  {
   "cell_type": "code",
   "execution_count": 10,
   "id": "4ab11bc8-0b29-4aae-bc81-93be1d15323b",
   "metadata": {},
   "outputs": [
    {
     "name": "stdout",
     "output_type": "stream",
     "text": [
      "['customer_id', 'address', 'postcode', 'state', 'country', 'property_valuation']\n",
      "DF Shape:  (3999, 6)\n"
     ]
    },
    {
     "data": {
      "text/html": [
       "<div>\n",
       "<style scoped>\n",
       "    .dataframe tbody tr th:only-of-type {\n",
       "        vertical-align: middle;\n",
       "    }\n",
       "\n",
       "    .dataframe tbody tr th {\n",
       "        vertical-align: top;\n",
       "    }\n",
       "\n",
       "    .dataframe thead th {\n",
       "        text-align: right;\n",
       "    }\n",
       "</style>\n",
       "<table border=\"1\" class=\"dataframe\">\n",
       "  <thead>\n",
       "    <tr style=\"text-align: right;\">\n",
       "      <th></th>\n",
       "      <th>customer_id</th>\n",
       "      <th>address</th>\n",
       "      <th>postcode</th>\n",
       "      <th>state</th>\n",
       "      <th>country</th>\n",
       "      <th>property_valuation</th>\n",
       "    </tr>\n",
       "  </thead>\n",
       "  <tbody>\n",
       "    <tr>\n",
       "      <th>0</th>\n",
       "      <td>1</td>\n",
       "      <td>060 Morning Avenue</td>\n",
       "      <td>2016</td>\n",
       "      <td>New South Wales</td>\n",
       "      <td>Australia</td>\n",
       "      <td>10</td>\n",
       "    </tr>\n",
       "    <tr>\n",
       "      <th>1</th>\n",
       "      <td>2</td>\n",
       "      <td>6 Meadow Vale Court</td>\n",
       "      <td>2153</td>\n",
       "      <td>New South Wales</td>\n",
       "      <td>Australia</td>\n",
       "      <td>10</td>\n",
       "    </tr>\n",
       "  </tbody>\n",
       "</table>\n",
       "</div>"
      ],
      "text/plain": [
       "   customer_id              address  postcode            state    country  \\\n",
       "0            1   060 Morning Avenue      2016  New South Wales  Australia   \n",
       "1            2  6 Meadow Vale Court      2153  New South Wales  Australia   \n",
       "\n",
       "   property_valuation  \n",
       "0                  10  \n",
       "1                  10  "
      ]
     },
     "execution_count": 10,
     "metadata": {},
     "output_type": "execute_result"
    }
   ],
   "source": [
    "info(CA)"
   ]
  },
  {
   "cell_type": "code",
   "execution_count": 90,
   "id": "0637e44a-f27d-4c0f-875e-5bbc3d9f156e",
   "metadata": {},
   "outputs": [
    {
     "name": "stdout",
     "output_type": "stream",
     "text": [
      "<class 'pandas.core.frame.DataFrame'>\n",
      "RangeIndex: 3999 entries, 0 to 3998\n",
      "Data columns (total 6 columns):\n",
      " #   Column              Non-Null Count  Dtype \n",
      "---  ------              --------------  ----- \n",
      " 0   customer_id         3999 non-null   int64 \n",
      " 1   address             3999 non-null   object\n",
      " 2   postcode            3999 non-null   int64 \n",
      " 3   state               3999 non-null   object\n",
      " 4   country             3999 non-null   object\n",
      " 5   property_valuation  3999 non-null   int64 \n",
      "dtypes: int64(3), object(3)\n",
      "memory usage: 187.6+ KB\n"
     ]
    }
   ],
   "source": [
    "# check if columns have data of valid datatypes\n",
    "CA.info()"
   ]
  },
  {
   "cell_type": "code",
   "execution_count": 11,
   "id": "567899ef-9bea-4c90-99bd-170a3fb26590",
   "metadata": {},
   "outputs": [
    {
     "data": {
      "text/plain": [
       "customer_id           0\n",
       "address               0\n",
       "postcode              0\n",
       "state                 0\n",
       "country               0\n",
       "property_valuation    0\n",
       "dtype: int64"
      ]
     },
     "execution_count": 11,
     "metadata": {},
     "output_type": "execute_result"
    }
   ],
   "source": [
    "CA.isna().sum()"
   ]
  },
  {
   "cell_type": "code",
   "execution_count": 42,
   "id": "2cbd5236-694e-42c6-a1fd-6d073b5a7bbe",
   "metadata": {},
   "outputs": [
    {
     "data": {
      "text/plain": [
       "3999"
      ]
     },
     "execution_count": 42,
     "metadata": {},
     "output_type": "execute_result"
    }
   ],
   "source": [
    "# confirming if we have all customer_id's unique\n",
    "CA['customer_id'].nunique()\n",
    "\n",
    "# it seems we had 4000 customer_ids in the \"Customer Demographic\" while we only have 3999 for \"Customer Address\"\n",
    "# Lets check which id's are we missing"
   ]
  },
  {
   "cell_type": "code",
   "execution_count": 24,
   "id": "0bffd41d-71ad-498f-bc29-40c88be37d6f",
   "metadata": {},
   "outputs": [
    {
     "data": {
      "text/plain": [
       "True     3996\n",
       "False       4\n",
       "Name: address_exists, dtype: int64"
      ]
     },
     "execution_count": 24,
     "metadata": {},
     "output_type": "execute_result"
    }
   ],
   "source": [
    "# check if we have address information for all the customers(wrt customer_id)\n",
    "CD[\"address_exists\"] = CD['customer_id'].isin(CA[\"customer_id\"])\n",
    "CD[\"address_exists\"].value_counts()"
   ]
  },
  {
   "cell_type": "code",
   "execution_count": 26,
   "id": "4ee9f8bc-7972-422b-b5ff-bb333448038a",
   "metadata": {},
   "outputs": [
    {
     "data": {
      "text/html": [
       "<div>\n",
       "<style scoped>\n",
       "    .dataframe tbody tr th:only-of-type {\n",
       "        vertical-align: middle;\n",
       "    }\n",
       "\n",
       "    .dataframe tbody tr th {\n",
       "        vertical-align: top;\n",
       "    }\n",
       "\n",
       "    .dataframe thead th {\n",
       "        text-align: right;\n",
       "    }\n",
       "</style>\n",
       "<table border=\"1\" class=\"dataframe\">\n",
       "  <thead>\n",
       "    <tr style=\"text-align: right;\">\n",
       "      <th></th>\n",
       "      <th>customer_id</th>\n",
       "      <th>first_name</th>\n",
       "      <th>last_name</th>\n",
       "      <th>gender</th>\n",
       "      <th>past_3_years_bike_related_purchases</th>\n",
       "      <th>DOB</th>\n",
       "      <th>job_title</th>\n",
       "      <th>job_industry_category</th>\n",
       "      <th>wealth_segment</th>\n",
       "      <th>deceased_indicator</th>\n",
       "      <th>default</th>\n",
       "      <th>owns_car</th>\n",
       "      <th>tenure</th>\n",
       "      <th>exists</th>\n",
       "      <th>address_exists</th>\n",
       "    </tr>\n",
       "  </thead>\n",
       "  <tbody>\n",
       "    <tr>\n",
       "      <th>2</th>\n",
       "      <td>3</td>\n",
       "      <td>Arlin</td>\n",
       "      <td>Dearle</td>\n",
       "      <td>Male</td>\n",
       "      <td>61</td>\n",
       "      <td>1954-01-20</td>\n",
       "      <td>Recruiting Manager</td>\n",
       "      <td>Property</td>\n",
       "      <td>Mass Customer</td>\n",
       "      <td>N</td>\n",
       "      <td>2018-02-01 00:00:00</td>\n",
       "      <td>Yes</td>\n",
       "      <td>15.0</td>\n",
       "      <td>False</td>\n",
       "      <td>False</td>\n",
       "    </tr>\n",
       "    <tr>\n",
       "      <th>9</th>\n",
       "      <td>10</td>\n",
       "      <td>Fiorenze</td>\n",
       "      <td>Birdall</td>\n",
       "      <td>Female</td>\n",
       "      <td>49</td>\n",
       "      <td>1988-10-11</td>\n",
       "      <td>Senior Quality Engineer</td>\n",
       "      <td>Financial Services</td>\n",
       "      <td>Mass Customer</td>\n",
       "      <td>N</td>\n",
       "      <td>ð©ð½</td>\n",
       "      <td>Yes</td>\n",
       "      <td>20.0</td>\n",
       "      <td>False</td>\n",
       "      <td>False</td>\n",
       "    </tr>\n",
       "    <tr>\n",
       "      <th>21</th>\n",
       "      <td>22</td>\n",
       "      <td>Deeanne</td>\n",
       "      <td>Durtnell</td>\n",
       "      <td>Female</td>\n",
       "      <td>79</td>\n",
       "      <td>1962-12-10</td>\n",
       "      <td>NaN</td>\n",
       "      <td>IT</td>\n",
       "      <td>Mass Customer</td>\n",
       "      <td>N</td>\n",
       "      <td>ï¼ï¼ï¼</td>\n",
       "      <td>No</td>\n",
       "      <td>11.0</td>\n",
       "      <td>False</td>\n",
       "      <td>False</td>\n",
       "    </tr>\n",
       "    <tr>\n",
       "      <th>22</th>\n",
       "      <td>23</td>\n",
       "      <td>Olav</td>\n",
       "      <td>Polak</td>\n",
       "      <td>Male</td>\n",
       "      <td>43</td>\n",
       "      <td>1995-02-10</td>\n",
       "      <td>NaN</td>\n",
       "      <td>NaN</td>\n",
       "      <td>High Net Worth</td>\n",
       "      <td>N</td>\n",
       "      <td>2018-02-01 00:00:00</td>\n",
       "      <td>Yes</td>\n",
       "      <td>1.0</td>\n",
       "      <td>False</td>\n",
       "      <td>False</td>\n",
       "    </tr>\n",
       "  </tbody>\n",
       "</table>\n",
       "</div>"
      ],
      "text/plain": [
       "    customer_id first_name last_name  gender  \\\n",
       "2             3      Arlin    Dearle    Male   \n",
       "9            10   Fiorenze   Birdall  Female   \n",
       "21           22    Deeanne  Durtnell  Female   \n",
       "22           23       Olav     Polak    Male   \n",
       "\n",
       "    past_3_years_bike_related_purchases        DOB                job_title  \\\n",
       "2                                    61 1954-01-20       Recruiting Manager   \n",
       "9                                    49 1988-10-11  Senior Quality Engineer   \n",
       "21                                   79 1962-12-10                      NaN   \n",
       "22                                   43 1995-02-10                      NaN   \n",
       "\n",
       "   job_industry_category  wealth_segment deceased_indicator  \\\n",
       "2               Property   Mass Customer                  N   \n",
       "9     Financial Services   Mass Customer                  N   \n",
       "21                    IT   Mass Customer                  N   \n",
       "22                   NaN  High Net Worth                  N   \n",
       "\n",
       "                default owns_car  tenure  exists  address_exists  \n",
       "2   2018-02-01 00:00:00      Yes    15.0   False           False  \n",
       "9                  ð©ð½      Yes    20.0   False           False  \n",
       "21               ï¼ï¼ï¼       No    11.0   False           False  \n",
       "22  2018-02-01 00:00:00      Yes     1.0   False           False  "
      ]
     },
     "execution_count": 26,
     "metadata": {},
     "output_type": "execute_result"
    }
   ],
   "source": [
    "# We do not have address information for these customer_id's\n",
    "CD[CD[\"address_exists\"]==False]"
   ]
  },
  {
   "cell_type": "code",
   "execution_count": 30,
   "id": "cf674c2f-fc40-4eb1-adbe-948946e2bbed",
   "metadata": {},
   "outputs": [
    {
     "name": "stdout",
     "output_type": "stream",
     "text": [
      "\t\t\tColumn: customer_id\n",
      "\t\t\tNo of Unique Values: 3999\n",
      "1       1\n",
      "2676    1\n",
      "2663    1\n",
      "2664    1\n",
      "2665    1\n",
      "       ..\n",
      "1343    1\n",
      "1344    1\n",
      "1345    1\n",
      "1346    1\n",
      "4003    1\n",
      "Name: customer_id, Length: 3999, dtype: int64\n",
      "-----\n",
      "\t\t\tColumn: address\n",
      "\t\t\tNo of Unique Values: 3996\n",
      "3 Mariners Cove Terrace      2\n",
      "3 Talisman Place             2\n",
      "64 Macpherson Junction       2\n",
      "359 Briar Crest Road         1\n",
      "4543 Service Terrace         1\n",
      "                            ..\n",
      "5063 Shopko Pass             1\n",
      "09 Hagan Pass                1\n",
      "87897 Lighthouse Bay Pass    1\n",
      "294 Lawn Junction            1\n",
      "320 Acker Drive              1\n",
      "Name: address, Length: 3996, dtype: int64\n",
      "-----\n",
      "\t\t\tColumn: postcode\n",
      "\t\t\tNo of Unique Values: 873\n",
      "2170    31\n",
      "2155    30\n",
      "2145    30\n",
      "2153    29\n",
      "3977    26\n",
      "        ..\n",
      "3808     1\n",
      "3114     1\n",
      "4721     1\n",
      "4799     1\n",
      "3089     1\n",
      "Name: postcode, Length: 873, dtype: int64\n",
      "-----\n",
      "\t\t\tColumn: state\n",
      "\t\t\tNo of Unique Values: 5\n",
      "NSW                2054\n",
      "VIC                 939\n",
      "QLD                 838\n",
      "New South Wales      86\n",
      "Victoria             82\n",
      "Name: state, dtype: int64\n",
      "-----\n",
      "\t\t\tColumn: country\n",
      "\t\t\tNo of Unique Values: 1\n",
      "Australia    3999\n",
      "Name: country, dtype: int64\n",
      "-----\n",
      "\t\t\tColumn: property_valuation\n",
      "\t\t\tNo of Unique Values: 12\n",
      "9     647\n",
      "8     646\n",
      "10    577\n",
      "7     493\n",
      "11    281\n",
      "6     238\n",
      "5     225\n",
      "4     214\n",
      "12    195\n",
      "3     186\n",
      "1     154\n",
      "2     143\n",
      "Name: property_valuation, dtype: int64\n",
      "-----\n"
     ]
    }
   ],
   "source": [
    "# checking unique values for each columns\n",
    "for i in CA.columns:\n",
    "    print('\\t\\t\\tColumn: {}\\n\\t\\t\\tNo of Unique Values: {}\\n{}\\n-----'.format(i, CA[i].value_counts().shape[0],CA[i].value_counts()))"
   ]
  },
  {
   "cell_type": "markdown",
   "id": "ac91b327-3882-442e-b912-ea6502e4fdbb",
   "metadata": {
    "tags": []
   },
   "source": [
    "### Problems\n",
    "#### <i>Customer Address</i>\n",
    "<ol>\n",
    "    <li><b><u>state:</b></u> Some names are abbrevation while some are full names.\n",
    "    <li><b><u>missing address:</b></u> for customer with customer_id=[3,10,22,23]\n",
    "</ol>"
   ]
  },
  {
   "cell_type": "markdown",
   "id": "9bf40278-feb0-48e4-8e08-8b736e134a1c",
   "metadata": {
    "jp-MarkdownHeadingCollapsed": true,
    "tags": []
   },
   "source": [
    "## For Transactions Data Frame<hr>"
   ]
  },
  {
   "cell_type": "code",
   "execution_count": 36,
   "id": "d0931768-9109-45f2-b90b-eaf2621ba98f",
   "metadata": {},
   "outputs": [
    {
     "name": "stdout",
     "output_type": "stream",
     "text": [
      "['transaction_id', 'product_id', 'customer_id', 'transaction_date', 'online_order', 'order_status', 'brand', 'product_line', 'product_class', 'product_size', 'list_price', 'standard_cost', 'product_first_sold_date']\n",
      "DF Shape:  (20000, 13)\n"
     ]
    },
    {
     "data": {
      "text/html": [
       "<div>\n",
       "<style scoped>\n",
       "    .dataframe tbody tr th:only-of-type {\n",
       "        vertical-align: middle;\n",
       "    }\n",
       "\n",
       "    .dataframe tbody tr th {\n",
       "        vertical-align: top;\n",
       "    }\n",
       "\n",
       "    .dataframe thead th {\n",
       "        text-align: right;\n",
       "    }\n",
       "</style>\n",
       "<table border=\"1\" class=\"dataframe\">\n",
       "  <thead>\n",
       "    <tr style=\"text-align: right;\">\n",
       "      <th></th>\n",
       "      <th>transaction_id</th>\n",
       "      <th>product_id</th>\n",
       "      <th>customer_id</th>\n",
       "      <th>transaction_date</th>\n",
       "      <th>online_order</th>\n",
       "      <th>order_status</th>\n",
       "      <th>brand</th>\n",
       "      <th>product_line</th>\n",
       "      <th>product_class</th>\n",
       "      <th>product_size</th>\n",
       "      <th>list_price</th>\n",
       "      <th>standard_cost</th>\n",
       "      <th>product_first_sold_date</th>\n",
       "    </tr>\n",
       "  </thead>\n",
       "  <tbody>\n",
       "    <tr>\n",
       "      <th>0</th>\n",
       "      <td>1</td>\n",
       "      <td>2</td>\n",
       "      <td>2950</td>\n",
       "      <td>2017-02-25</td>\n",
       "      <td>0.0</td>\n",
       "      <td>Approved</td>\n",
       "      <td>Solex</td>\n",
       "      <td>Standard</td>\n",
       "      <td>medium</td>\n",
       "      <td>medium</td>\n",
       "      <td>71.49</td>\n",
       "      <td>53.62</td>\n",
       "      <td>41245.0</td>\n",
       "    </tr>\n",
       "    <tr>\n",
       "      <th>1</th>\n",
       "      <td>2</td>\n",
       "      <td>3</td>\n",
       "      <td>3120</td>\n",
       "      <td>2017-05-21</td>\n",
       "      <td>1.0</td>\n",
       "      <td>Approved</td>\n",
       "      <td>Trek Bicycles</td>\n",
       "      <td>Standard</td>\n",
       "      <td>medium</td>\n",
       "      <td>large</td>\n",
       "      <td>2091.47</td>\n",
       "      <td>388.92</td>\n",
       "      <td>41701.0</td>\n",
       "    </tr>\n",
       "  </tbody>\n",
       "</table>\n",
       "</div>"
      ],
      "text/plain": [
       "   transaction_id  product_id  customer_id transaction_date  online_order  \\\n",
       "0               1           2         2950       2017-02-25           0.0   \n",
       "1               2           3         3120       2017-05-21           1.0   \n",
       "\n",
       "  order_status          brand product_line product_class product_size  \\\n",
       "0     Approved          Solex     Standard        medium       medium   \n",
       "1     Approved  Trek Bicycles     Standard        medium        large   \n",
       "\n",
       "   list_price  standard_cost  product_first_sold_date  \n",
       "0       71.49          53.62                  41245.0  \n",
       "1     2091.47         388.92                  41701.0  "
      ]
     },
     "execution_count": 36,
     "metadata": {},
     "output_type": "execute_result"
    }
   ],
   "source": [
    "info(T)"
   ]
  },
  {
   "cell_type": "code",
   "execution_count": 91,
   "id": "5be3463e-4626-4baf-aebd-9e4bceeb7eae",
   "metadata": {},
   "outputs": [
    {
     "name": "stdout",
     "output_type": "stream",
     "text": [
      "<class 'pandas.core.frame.DataFrame'>\n",
      "RangeIndex: 20000 entries, 0 to 19999\n",
      "Data columns (total 13 columns):\n",
      " #   Column                   Non-Null Count  Dtype         \n",
      "---  ------                   --------------  -----         \n",
      " 0   transaction_id           20000 non-null  int64         \n",
      " 1   product_id               20000 non-null  int64         \n",
      " 2   customer_id              20000 non-null  int64         \n",
      " 3   transaction_date         20000 non-null  datetime64[ns]\n",
      " 4   online_order             19640 non-null  float64       \n",
      " 5   order_status             20000 non-null  object        \n",
      " 6   brand                    19803 non-null  object        \n",
      " 7   product_line             19803 non-null  object        \n",
      " 8   product_class            19803 non-null  object        \n",
      " 9   product_size             19803 non-null  object        \n",
      " 10  list_price               20000 non-null  float64       \n",
      " 11  standard_cost            19803 non-null  float64       \n",
      " 12  product_first_sold_date  19803 non-null  float64       \n",
      "dtypes: datetime64[ns](1), float64(4), int64(3), object(5)\n",
      "memory usage: 2.0+ MB\n"
     ]
    }
   ],
   "source": [
    "# check if columns have data of valid datatypes\n",
    "T.info()"
   ]
  },
  {
   "cell_type": "code",
   "execution_count": 93,
   "id": "f384c374-2c4b-44c4-a9fa-056404d7a3a2",
   "metadata": {},
   "outputs": [
    {
     "name": "stderr",
     "output_type": "stream",
     "text": [
      "/var/folders/f4/x3f17tf94sq8z7mhzysfrsn80000gn/T/ipykernel_54883/3050661118.py:2: FutureWarning: Treating datetime data as categorical rather than numeric in `.describe` is deprecated and will be removed in a future version of pandas. Specify `datetime_is_numeric=True` to silence this warning and adopt the future behavior now.\n",
      "  T.describe(include='all')\n"
     ]
    },
    {
     "data": {
      "text/html": [
       "<div>\n",
       "<style scoped>\n",
       "    .dataframe tbody tr th:only-of-type {\n",
       "        vertical-align: middle;\n",
       "    }\n",
       "\n",
       "    .dataframe tbody tr th {\n",
       "        vertical-align: top;\n",
       "    }\n",
       "\n",
       "    .dataframe thead th {\n",
       "        text-align: right;\n",
       "    }\n",
       "</style>\n",
       "<table border=\"1\" class=\"dataframe\">\n",
       "  <thead>\n",
       "    <tr style=\"text-align: right;\">\n",
       "      <th></th>\n",
       "      <th>transaction_id</th>\n",
       "      <th>product_id</th>\n",
       "      <th>customer_id</th>\n",
       "      <th>transaction_date</th>\n",
       "      <th>online_order</th>\n",
       "      <th>order_status</th>\n",
       "      <th>brand</th>\n",
       "      <th>product_line</th>\n",
       "      <th>product_class</th>\n",
       "      <th>product_size</th>\n",
       "      <th>list_price</th>\n",
       "      <th>standard_cost</th>\n",
       "      <th>product_first_sold_date</th>\n",
       "    </tr>\n",
       "  </thead>\n",
       "  <tbody>\n",
       "    <tr>\n",
       "      <th>count</th>\n",
       "      <td>20000.000000</td>\n",
       "      <td>20000.00000</td>\n",
       "      <td>20000.000000</td>\n",
       "      <td>20000</td>\n",
       "      <td>19640.000000</td>\n",
       "      <td>20000</td>\n",
       "      <td>19803</td>\n",
       "      <td>19803</td>\n",
       "      <td>19803</td>\n",
       "      <td>19803</td>\n",
       "      <td>20000.000000</td>\n",
       "      <td>19803.000000</td>\n",
       "      <td>19803.000000</td>\n",
       "    </tr>\n",
       "    <tr>\n",
       "      <th>unique</th>\n",
       "      <td>NaN</td>\n",
       "      <td>NaN</td>\n",
       "      <td>NaN</td>\n",
       "      <td>364</td>\n",
       "      <td>NaN</td>\n",
       "      <td>2</td>\n",
       "      <td>6</td>\n",
       "      <td>4</td>\n",
       "      <td>3</td>\n",
       "      <td>3</td>\n",
       "      <td>NaN</td>\n",
       "      <td>NaN</td>\n",
       "      <td>NaN</td>\n",
       "    </tr>\n",
       "    <tr>\n",
       "      <th>top</th>\n",
       "      <td>NaN</td>\n",
       "      <td>NaN</td>\n",
       "      <td>NaN</td>\n",
       "      <td>2017-02-14 00:00:00</td>\n",
       "      <td>NaN</td>\n",
       "      <td>Approved</td>\n",
       "      <td>Solex</td>\n",
       "      <td>Standard</td>\n",
       "      <td>medium</td>\n",
       "      <td>medium</td>\n",
       "      <td>NaN</td>\n",
       "      <td>NaN</td>\n",
       "      <td>NaN</td>\n",
       "    </tr>\n",
       "    <tr>\n",
       "      <th>freq</th>\n",
       "      <td>NaN</td>\n",
       "      <td>NaN</td>\n",
       "      <td>NaN</td>\n",
       "      <td>82</td>\n",
       "      <td>NaN</td>\n",
       "      <td>19821</td>\n",
       "      <td>4253</td>\n",
       "      <td>14176</td>\n",
       "      <td>13826</td>\n",
       "      <td>12990</td>\n",
       "      <td>NaN</td>\n",
       "      <td>NaN</td>\n",
       "      <td>NaN</td>\n",
       "    </tr>\n",
       "    <tr>\n",
       "      <th>first</th>\n",
       "      <td>NaN</td>\n",
       "      <td>NaN</td>\n",
       "      <td>NaN</td>\n",
       "      <td>2017-01-01 00:00:00</td>\n",
       "      <td>NaN</td>\n",
       "      <td>NaN</td>\n",
       "      <td>NaN</td>\n",
       "      <td>NaN</td>\n",
       "      <td>NaN</td>\n",
       "      <td>NaN</td>\n",
       "      <td>NaN</td>\n",
       "      <td>NaN</td>\n",
       "      <td>NaN</td>\n",
       "    </tr>\n",
       "    <tr>\n",
       "      <th>last</th>\n",
       "      <td>NaN</td>\n",
       "      <td>NaN</td>\n",
       "      <td>NaN</td>\n",
       "      <td>2017-12-30 00:00:00</td>\n",
       "      <td>NaN</td>\n",
       "      <td>NaN</td>\n",
       "      <td>NaN</td>\n",
       "      <td>NaN</td>\n",
       "      <td>NaN</td>\n",
       "      <td>NaN</td>\n",
       "      <td>NaN</td>\n",
       "      <td>NaN</td>\n",
       "      <td>NaN</td>\n",
       "    </tr>\n",
       "    <tr>\n",
       "      <th>mean</th>\n",
       "      <td>10000.500000</td>\n",
       "      <td>45.36465</td>\n",
       "      <td>1738.246050</td>\n",
       "      <td>NaN</td>\n",
       "      <td>0.500458</td>\n",
       "      <td>NaN</td>\n",
       "      <td>NaN</td>\n",
       "      <td>NaN</td>\n",
       "      <td>NaN</td>\n",
       "      <td>NaN</td>\n",
       "      <td>1107.829449</td>\n",
       "      <td>556.046951</td>\n",
       "      <td>38199.776549</td>\n",
       "    </tr>\n",
       "    <tr>\n",
       "      <th>std</th>\n",
       "      <td>5773.647028</td>\n",
       "      <td>30.75359</td>\n",
       "      <td>1011.951046</td>\n",
       "      <td>NaN</td>\n",
       "      <td>0.500013</td>\n",
       "      <td>NaN</td>\n",
       "      <td>NaN</td>\n",
       "      <td>NaN</td>\n",
       "      <td>NaN</td>\n",
       "      <td>NaN</td>\n",
       "      <td>582.825242</td>\n",
       "      <td>405.955660</td>\n",
       "      <td>2875.201110</td>\n",
       "    </tr>\n",
       "    <tr>\n",
       "      <th>min</th>\n",
       "      <td>1.000000</td>\n",
       "      <td>0.00000</td>\n",
       "      <td>1.000000</td>\n",
       "      <td>NaN</td>\n",
       "      <td>0.000000</td>\n",
       "      <td>NaN</td>\n",
       "      <td>NaN</td>\n",
       "      <td>NaN</td>\n",
       "      <td>NaN</td>\n",
       "      <td>NaN</td>\n",
       "      <td>12.010000</td>\n",
       "      <td>7.210000</td>\n",
       "      <td>33259.000000</td>\n",
       "    </tr>\n",
       "    <tr>\n",
       "      <th>25%</th>\n",
       "      <td>5000.750000</td>\n",
       "      <td>18.00000</td>\n",
       "      <td>857.750000</td>\n",
       "      <td>NaN</td>\n",
       "      <td>0.000000</td>\n",
       "      <td>NaN</td>\n",
       "      <td>NaN</td>\n",
       "      <td>NaN</td>\n",
       "      <td>NaN</td>\n",
       "      <td>NaN</td>\n",
       "      <td>575.270000</td>\n",
       "      <td>215.140000</td>\n",
       "      <td>35667.000000</td>\n",
       "    </tr>\n",
       "    <tr>\n",
       "      <th>50%</th>\n",
       "      <td>10000.500000</td>\n",
       "      <td>44.00000</td>\n",
       "      <td>1736.000000</td>\n",
       "      <td>NaN</td>\n",
       "      <td>1.000000</td>\n",
       "      <td>NaN</td>\n",
       "      <td>NaN</td>\n",
       "      <td>NaN</td>\n",
       "      <td>NaN</td>\n",
       "      <td>NaN</td>\n",
       "      <td>1163.890000</td>\n",
       "      <td>507.580000</td>\n",
       "      <td>38216.000000</td>\n",
       "    </tr>\n",
       "    <tr>\n",
       "      <th>75%</th>\n",
       "      <td>15000.250000</td>\n",
       "      <td>72.00000</td>\n",
       "      <td>2613.000000</td>\n",
       "      <td>NaN</td>\n",
       "      <td>1.000000</td>\n",
       "      <td>NaN</td>\n",
       "      <td>NaN</td>\n",
       "      <td>NaN</td>\n",
       "      <td>NaN</td>\n",
       "      <td>NaN</td>\n",
       "      <td>1635.300000</td>\n",
       "      <td>795.100000</td>\n",
       "      <td>40672.000000</td>\n",
       "    </tr>\n",
       "    <tr>\n",
       "      <th>max</th>\n",
       "      <td>20000.000000</td>\n",
       "      <td>100.00000</td>\n",
       "      <td>5034.000000</td>\n",
       "      <td>NaN</td>\n",
       "      <td>1.000000</td>\n",
       "      <td>NaN</td>\n",
       "      <td>NaN</td>\n",
       "      <td>NaN</td>\n",
       "      <td>NaN</td>\n",
       "      <td>NaN</td>\n",
       "      <td>2091.470000</td>\n",
       "      <td>1759.850000</td>\n",
       "      <td>42710.000000</td>\n",
       "    </tr>\n",
       "  </tbody>\n",
       "</table>\n",
       "</div>"
      ],
      "text/plain": [
       "        transaction_id   product_id   customer_id     transaction_date  \\\n",
       "count     20000.000000  20000.00000  20000.000000                20000   \n",
       "unique             NaN          NaN           NaN                  364   \n",
       "top                NaN          NaN           NaN  2017-02-14 00:00:00   \n",
       "freq               NaN          NaN           NaN                   82   \n",
       "first              NaN          NaN           NaN  2017-01-01 00:00:00   \n",
       "last               NaN          NaN           NaN  2017-12-30 00:00:00   \n",
       "mean      10000.500000     45.36465   1738.246050                  NaN   \n",
       "std        5773.647028     30.75359   1011.951046                  NaN   \n",
       "min           1.000000      0.00000      1.000000                  NaN   \n",
       "25%        5000.750000     18.00000    857.750000                  NaN   \n",
       "50%       10000.500000     44.00000   1736.000000                  NaN   \n",
       "75%       15000.250000     72.00000   2613.000000                  NaN   \n",
       "max       20000.000000    100.00000   5034.000000                  NaN   \n",
       "\n",
       "        online_order order_status  brand product_line product_class  \\\n",
       "count   19640.000000        20000  19803        19803         19803   \n",
       "unique           NaN            2      6            4             3   \n",
       "top              NaN     Approved  Solex     Standard        medium   \n",
       "freq             NaN        19821   4253        14176         13826   \n",
       "first            NaN          NaN    NaN          NaN           NaN   \n",
       "last             NaN          NaN    NaN          NaN           NaN   \n",
       "mean        0.500458          NaN    NaN          NaN           NaN   \n",
       "std         0.500013          NaN    NaN          NaN           NaN   \n",
       "min         0.000000          NaN    NaN          NaN           NaN   \n",
       "25%         0.000000          NaN    NaN          NaN           NaN   \n",
       "50%         1.000000          NaN    NaN          NaN           NaN   \n",
       "75%         1.000000          NaN    NaN          NaN           NaN   \n",
       "max         1.000000          NaN    NaN          NaN           NaN   \n",
       "\n",
       "       product_size    list_price  standard_cost  product_first_sold_date  \n",
       "count         19803  20000.000000   19803.000000             19803.000000  \n",
       "unique            3           NaN            NaN                      NaN  \n",
       "top          medium           NaN            NaN                      NaN  \n",
       "freq          12990           NaN            NaN                      NaN  \n",
       "first           NaN           NaN            NaN                      NaN  \n",
       "last            NaN           NaN            NaN                      NaN  \n",
       "mean            NaN   1107.829449     556.046951             38199.776549  \n",
       "std             NaN    582.825242     405.955660              2875.201110  \n",
       "min             NaN     12.010000       7.210000             33259.000000  \n",
       "25%             NaN    575.270000     215.140000             35667.000000  \n",
       "50%             NaN   1163.890000     507.580000             38216.000000  \n",
       "75%             NaN   1635.300000     795.100000             40672.000000  \n",
       "max             NaN   2091.470000    1759.850000             42710.000000  "
      ]
     },
     "execution_count": 93,
     "metadata": {},
     "output_type": "execute_result"
    }
   ],
   "source": [
    "# lets check out some statistics for transactions out of curiosity\n",
    "T.describe(include='all')"
   ]
  },
  {
   "cell_type": "code",
   "execution_count": 38,
   "id": "2efadc69-13df-4bb0-b790-9661a0647f4b",
   "metadata": {},
   "outputs": [
    {
     "data": {
      "text/plain": [
       "20000"
      ]
     },
     "execution_count": 38,
     "metadata": {},
     "output_type": "execute_result"
    }
   ],
   "source": [
    "# confirming if we have all transaction id's unique\n",
    "T['transaction_id'].nunique()"
   ]
  },
  {
   "cell_type": "code",
   "execution_count": 44,
   "id": "4fb1308d-64a8-483c-8a95-872f85d66cd6",
   "metadata": {},
   "outputs": [
    {
     "data": {
      "text/plain": [
       "3494"
      ]
     },
     "execution_count": 44,
     "metadata": {},
     "output_type": "execute_result"
    }
   ],
   "source": [
    "T['customer_id'].nunique()\n",
    "# it seems like we have 3494 customers whose transaction details we have from the total 4000 customer id's"
   ]
  },
  {
   "cell_type": "code",
   "execution_count": 48,
   "id": "d2298ae9-5d80-4e76-9339-1e0c69f2b8f5",
   "metadata": {},
   "outputs": [
    {
     "data": {
      "text/plain": [
       "transaction_id               0\n",
       "product_id                   0\n",
       "customer_id                  0\n",
       "transaction_date             0\n",
       "online_order               360\n",
       "order_status                 0\n",
       "brand                      197\n",
       "product_line               197\n",
       "product_class              197\n",
       "product_size               197\n",
       "list_price                   0\n",
       "standard_cost              197\n",
       "product_first_sold_date    197\n",
       "dtype: int64"
      ]
     },
     "execution_count": 48,
     "metadata": {},
     "output_type": "execute_result"
    }
   ],
   "source": [
    "T.isna().sum()"
   ]
  },
  {
   "cell_type": "code",
   "execution_count": 51,
   "id": "1cceb869-d249-427f-aa65-6c0b61f769d0",
   "metadata": {},
   "outputs": [
    {
     "name": "stdout",
     "output_type": "stream",
     "text": [
      "\t\t\tColumn: transaction_id\n",
      "\t\t\tNo of Unique Values: 20000\n",
      "1        1\n",
      "13331    1\n",
      "13338    1\n",
      "13337    1\n",
      "13336    1\n",
      "        ..\n",
      "6667     1\n",
      "6666     1\n",
      "6665     1\n",
      "6664     1\n",
      "20000    1\n",
      "Name: transaction_id, Length: 20000, dtype: int64\n",
      "-----\n",
      "\t\t\tColumn: product_id\n",
      "\t\t\tNo of Unique Values: 101\n",
      "0      1378\n",
      "3       354\n",
      "1       311\n",
      "35      268\n",
      "38      267\n",
      "       ... \n",
      "71      137\n",
      "8       136\n",
      "16      136\n",
      "100     130\n",
      "47      121\n",
      "Name: product_id, Length: 101, dtype: int64\n",
      "-----\n",
      "\t\t\tColumn: customer_id\n",
      "\t\t\tNo of Unique Values: 3494\n",
      "2183    14\n",
      "2476    14\n",
      "1068    14\n",
      "1672    13\n",
      "2912    13\n",
      "        ..\n",
      "898      1\n",
      "2352     1\n",
      "1846     1\n",
      "3279     1\n",
      "1757     1\n",
      "Name: customer_id, Length: 3494, dtype: int64\n",
      "-----\n",
      "\t\t\tColumn: transaction_date\n",
      "\t\t\tNo of Unique Values: 364\n",
      "2017-02-14    82\n",
      "2017-08-18    82\n",
      "2017-10-15    76\n",
      "2017-01-31    73\n",
      "2017-12-19    71\n",
      "              ..\n",
      "2017-01-12    38\n",
      "2017-12-07    37\n",
      "2017-03-29    36\n",
      "2017-09-25    35\n",
      "2017-10-19    32\n",
      "Name: transaction_date, Length: 364, dtype: int64\n",
      "-----\n",
      "\t\t\tColumn: online_order\n",
      "\t\t\tNo of Unique Values: 2\n",
      "1.0    9829\n",
      "0.0    9811\n",
      "Name: online_order, dtype: int64\n",
      "-----\n",
      "\t\t\tColumn: order_status\n",
      "\t\t\tNo of Unique Values: 2\n",
      "Approved     19821\n",
      "Cancelled      179\n",
      "Name: order_status, dtype: int64\n",
      "-----\n",
      "\t\t\tColumn: brand\n",
      "\t\t\tNo of Unique Values: 6\n",
      "Solex             4253\n",
      "Giant Bicycles    3312\n",
      "WeareA2B          3295\n",
      "OHM Cycles        3043\n",
      "Trek Bicycles     2990\n",
      "Norco Bicycles    2910\n",
      "Name: brand, dtype: int64\n",
      "-----\n",
      "\t\t\tColumn: product_line\n",
      "\t\t\tNo of Unique Values: 4\n",
      "Standard    14176\n",
      "Road         3970\n",
      "Touring      1234\n",
      "Mountain      423\n",
      "Name: product_line, dtype: int64\n",
      "-----\n",
      "\t\t\tColumn: product_class\n",
      "\t\t\tNo of Unique Values: 3\n",
      "medium    13826\n",
      "high       3013\n",
      "low        2964\n",
      "Name: product_class, dtype: int64\n",
      "-----\n",
      "\t\t\tColumn: product_size\n",
      "\t\t\tNo of Unique Values: 3\n",
      "medium    12990\n",
      "large      3976\n",
      "small      2837\n",
      "Name: product_size, dtype: int64\n",
      "-----\n",
      "\t\t\tColumn: list_price\n",
      "\t\t\tNo of Unique Values: 296\n",
      "2091.47    465\n",
      "1403.50    396\n",
      "71.49      274\n",
      "1231.15    235\n",
      "1890.39    233\n",
      "          ... \n",
      "56.21        1\n",
      "126.36       1\n",
      "1300.96      1\n",
      "1697.27      1\n",
      "867.92       1\n",
      "Name: list_price, Length: 296, dtype: int64\n",
      "-----\n",
      "\t\t\tColumn: standard_cost\n",
      "\t\t\tNo of Unique Values: 103\n",
      "388.920000    465\n",
      "954.820000    396\n",
      "53.620000     274\n",
      "161.600000    235\n",
      "260.140000    233\n",
      "             ... \n",
      "151.960000    124\n",
      "206.350000    114\n",
      "312.735016      1\n",
      "270.299988      1\n",
      "667.400024      1\n",
      "Name: standard_cost, Length: 103, dtype: int64\n",
      "-----\n",
      "\t\t\tColumn: product_first_sold_date\n",
      "\t\t\tNo of Unique Values: 100\n",
      "33879.0    234\n",
      "41064.0    229\n",
      "37823.0    227\n",
      "39880.0    222\n",
      "38216.0    220\n",
      "          ... \n",
      "41848.0    169\n",
      "42404.0    168\n",
      "41922.0    166\n",
      "37659.0    163\n",
      "34586.0    162\n",
      "Name: product_first_sold_date, Length: 100, dtype: int64\n",
      "-----\n"
     ]
    }
   ],
   "source": [
    "# checking unique values for each columns\n",
    "for i in T.columns:\n",
    "    print('\\t\\t\\tColumn: {}\\n\\t\\t\\tNo of Unique Values: {}\\n{}\\n-----'.format(i, T[i].value_counts().shape[0],T[i].value_counts()))"
   ]
  },
  {
   "cell_type": "markdown",
   "id": "245d59f3-f4c5-4008-ba3d-06f139f650fb",
   "metadata": {},
   "source": [
    "### Problems\n",
    "#### <i>Transactions</i>\n",
    "<ol>\n",
    "    <li><b><u>Null values:</b></u> in columns online_order, brand, product_line, product_class, product_size, standard_cost, product_first_sold_date\n",
    "    <li><b><u>state:</b></u> Some names are abbrevation while some are full names.\n",
    "    <li><b><u>product_first_sold_date:</b></u> It is mentioned as date in column name but the values imply continous value\n",
    "</ol>"
   ]
  },
  {
   "cell_type": "markdown",
   "id": "4674996a-0875-4971-ba7c-0755ece7961f",
   "metadata": {
    "tags": []
   },
   "source": [
    "## <hr>Summary of all problems\n",
    "<ol>\n",
    "<li><i>Customer Demographic</i>\n",
    "<ol>\n",
    "    <li><b><u>Null values:</b></u> in columns [last_name, DOB, job_title, job_industry_category, default, tenure]\n",
    "    <li><b><u>gender:</b></u> There are 6 different categories instead of just 3(Male, Female, Unknown).\n",
    "     <li><b><u>default:</b></u> There are many random characters(looks like scripting language).\n",
    "</ol>\n",
    "<li><i>Customer Address</i>\n",
    "<ol>\n",
    "    <li><b><u>state:</b></u> Some names are abbrevation while some are full names.\n",
    "    <li><b><u>missing address:</b></u> for customer with customer_id=[3,10,22,23]\n",
    "</ol>\n",
    "<li><i>Transactions</i>\n",
    "<ol>\n",
    "    <li><b><u>Null values:</b></u> in columns [online_order, brand, product_line, product_class, product_size, standard_cost, product_first_sold_date]\n",
    "    <li><b><u>state:</b></u> Some names are abbrevation while some are full names.\n",
    "    <li><b><u>product_first_sold_date:</b></u> It is mentioned as date in column name but the values imply continous value\n",
    "</ol>\n",
    "</ol>"
   ]
  },
  {
   "cell_type": "markdown",
   "id": "26847123-4981-4f33-9a59-38712b95c7e6",
   "metadata": {
    "jp-MarkdownHeadingCollapsed": true,
    "tags": []
   },
   "source": [
    "## Suggested Solutions\n",
    "\n",
    "<ol>\n",
    "<li><i>Customer Demographic</i>\n",
    "<ol>\n",
    "    <li><b><u>Null values:</b></u> <ul>\n",
    "        <li>last_name(customer does not have last_name) --> merge first_name and last_name since there are no missing values in first_name, first_name+last_name will have all valid values\n",
    "        <li>DOB(privacy), job_title(privacy), job_industry_category(privacy) --> we can ignore missing values in these columns unless we are need these columns for analysis\n",
    "        <li>  default --> We can drop this column since the values in this column are random\n",
    "        <li>tenure --> We can use fillna to replace missing values with 0.0</ul>\n",
    "    <li><b><u>gender:</b></u> There are 6 different categories instead of just 3(Male, Female, Unknown).\n",
    "     <li><b><u>default:</b></u> There are many random characters(meta-data).\n",
    "</ol>\n",
    "<li><i>Customer Address</i>\n",
    "<ol>\n",
    "    <li><b><u>state:</b></u> --> we can create a new column with full forms/abbrevations in it to make the format general.\n",
    "    <li><b><u>missing address:</b></u> --> since there are only 4 customers with no address, we can decide to drop these customers because the proportion of data to ignore is too small hence will have minimum impact.\n",
    "</ol>\n",
    "<li><i>Transactions</i>\n",
    "<ol>\n",
    "    <li><b><u>Null values:</b></u> --> we can simply ignore the non-existing values if the column is not needed for our analysis, and if the column is necessary we can replace null values with universal string. for eg: replace null values with 'Unknown', or ignore the instances with null values if the % of them is too small.\n",
    "    <li><b><u>state:</b></u> --> we can either decide to keep abbrevations or convert all of them to full forms\n",
    "    <li><b><u>product_first_sold_date:</b></u> --> need to collect more information from the company, because it seems like the column has been incorrectly named.\n",
    "</ol>\n",
    "</ol>"
   ]
  },
  {
   "cell_type": "markdown",
   "id": "ecaec553-ce55-44f1-9008-d9b22dff35d6",
   "metadata": {},
   "source": [
    "## <hr>Final Thoughts\n",
    "<i><b>The problems and solutions that we can use are mentioned above and data quality parameters are discussed below</b></i>\n",
    "<ul>\n",
    "    <li>Correct Values: To check the correctness of data, we need another source to compare the values to.\n",
    "    <li>Data Fields with values: There are many data fields with missing values which are stated above.\n",
    "    <li>Values free from contradiction: state column has some full forms whiel some values are abrevations, gender has 6 different classes(many of them imply the same meaning)\n",
    "    <li>Values upto date: Since the data is historical, values can be considered as upto date for analysis purposes.\n",
    "    <li>Data-items with value Meta-data: default column in Customer_Address dataframe has metadata stored in it.\n",
    "    <li>Data containing allowable values: All of the columns have correct datatypes.\n",
    "    <li>Records that are duplicated: There are duplicates(instances with all attribute values identical) in the given 3 dataframes.\n",
    "</ul>\n",
    "\n",
    "<i><b> The data seems having fairly good quality overall, we can ofcourse improve the data quality by further cleaning the data, data conversation, attribute discretization, attribute transformation, merging the dataframes, etc.</b></i>"
   ]
  },
  {
   "cell_type": "markdown",
   "id": "5c599c20-6671-42f9-9228-a175d58bc655",
   "metadata": {
    "jp-MarkdownHeadingCollapsed": true,
    "tags": []
   },
   "source": [
    "## <hr><i>Rough work(not required for submission)</i><hr>"
   ]
  },
  {
   "cell_type": "markdown",
   "id": "00e97e4a-27f2-4d5f-b5f0-e0a7760a96d9",
   "metadata": {
    "tags": []
   },
   "source": [
    "Here it does not makes sense to have customer_id as primary key because one customer may do multiple transactions, buy \n",
    "transaction_id must be unique"
   ]
  },
  {
   "cell_type": "code",
   "execution_count": 162,
   "id": "f8ea3a90-d2f0-4098-bd7d-51eda08aa4b8",
   "metadata": {},
   "outputs": [
    {
     "name": "stdout",
     "output_type": "stream",
     "text": [
      "For CustomerDemographic: (4000, 13), 4000\n",
      "For CustomerAddress: (3999, 6), 3999\n",
      "For Transactions(customer_id): (20000, 13), 3494\n",
      "For Transactions(transaction_id): (20000, 13), 20000\n"
     ]
    }
   ],
   "source": [
    "print('For CustomerDemographic: {}, {}'.format(CD.shape, CD['customer_id'].nunique()))\n",
    "print('For CustomerAddress: {}, {}'.format(CA.shape, CA['customer_id'].nunique()))\n",
    "# Here it does not makes sense to have customer_id as primary key because one customer may do multiple transactions, buy transaction_id must be unique\n",
    "print('For Transactions(customer_id): {}, {}'.format(T.shape, T['customer_id'].nunique()))\n",
    "print('For Transactions(transaction_id): {}, {}'.format(T.shape, T['transaction_id'].nunique()))"
   ]
  },
  {
   "cell_type": "code",
   "execution_count": null,
   "id": "4bda7ab7-03a5-428b-a35e-456466f0f04f",
   "metadata": {},
   "outputs": [],
   "source": []
  },
  {
   "cell_type": "code",
   "execution_count": null,
   "id": "1cafd33b-deec-4d1e-abe6-c5e58cd03dd7",
   "metadata": {},
   "outputs": [],
   "source": []
  },
  {
   "cell_type": "code",
   "execution_count": null,
   "id": "bf4a5702-e995-44e5-a2bd-6939e1409d85",
   "metadata": {},
   "outputs": [],
   "source": []
  },
  {
   "cell_type": "markdown",
   "id": "ea2630d6-99f0-44da-bd18-6cfa51f3b153",
   "metadata": {},
   "source": [
    "### For every New Customer, there will be no customer_id because they havent signed-up for it yet\n",
    "### But their full name must be unique, lets check if it is"
   ]
  },
  {
   "cell_type": "code",
   "execution_count": 161,
   "id": "3177571b-5381-4dee-bf5b-3486570122d2",
   "metadata": {},
   "outputs": [
    {
     "name": "stdout",
     "output_type": "stream",
     "text": [
      "For New Customer List(first_name+last_name): (1000, 24), 971\n"
     ]
    }
   ],
   "source": [
    "# For every New Customer, there will be no customer_id because they havent signed-up for it yet\n",
    "# But their full name must be unique, lets check if it is\n",
    "NCL['full_name'] = NCL['first_name']+NCL['last_name']\n",
    "print('For New Customer List(first_name+last_name): {}, {}'.format(NCL.shape, NCL['full_name'].nunique()))"
   ]
  },
  {
   "cell_type": "code",
   "execution_count": 111,
   "id": "a814f90b-1cdb-47d3-9b55-2f943edcc288",
   "metadata": {},
   "outputs": [
    {
     "data": {
      "image/png": "[encoded data removed]",
      "text/plain": [
       "<Figure size 504x360 with 1 Axes>"
      ]
     },
     "metadata": {},
     "output_type": "display_data"
    }
   ],
   "source": [
    "#NCL['gender'].value_counts().sort_index().plot.bar()\n",
    "\n",
    "s = NCL['gender'].value_counts().sort_index()\n",
    "import matplotlib._color_data as mcd\n",
    "colours = list(mcd.CSS4_COLORS)\n",
    "\n",
    "plt.figure()\n",
    "fig = s.plot(kind='bar', color=random.sample(colours, len(s.index)), edgecolor='black')\n",
    "fig.set_xticklabels(s.index)\n",
    "fig.bar_label(fig.containers[0], label_type='edge')\n",
    "plt.title('Distribution of Gender in New Customers List | Total = '+str(sum(s.values)))\n",
    "plt.show()"
   ]
  },
  {
   "cell_type": "code",
   "execution_count": 65,
   "id": "515d3460-aad3-49e2-81b9-1faa3b294e85",
   "metadata": {},
   "outputs": [
    {
     "data": {
      "text/plain": [
       "1000"
      ]
     },
     "execution_count": 65,
     "metadata": {},
     "output_type": "execute_result"
    }
   ],
   "source": [
    "sum(s.values)"
   ]
  },
  {
   "cell_type": "code",
   "execution_count": 45,
   "id": "fd59462f-4fe1-49ca-a996-8b007ad10808",
   "metadata": {},
   "outputs": [
    {
     "data": {
      "text/plain": [
       "[1, 1, 1]"
      ]
     },
     "execution_count": 45,
     "metadata": {},
     "output_type": "execute_result"
    }
   ],
   "source": [
    "import random\n",
    "random.sample(list(colours), 3)"
   ]
  },
  {
   "cell_type": "code",
   "execution_count": 145,
   "id": "a5604749-37ae-4fba-ba90-91d83a97cfec",
   "metadata": {},
   "outputs": [
    {
     "data": {
      "text/plain": [
       "1    971\n",
       "Name: full_name, dtype: int64"
      ]
     },
     "execution_count": 145,
     "metadata": {},
     "output_type": "execute_result"
    }
   ],
   "source": [
    "# This prooves that all the full names are unique\n",
    "# i.e there are 971 values in column full_name which has full_name repeated only 1 time's\n",
    "NCL['full_name'].value_counts().value_counts()"
   ]
  },
  {
   "cell_type": "code",
   "execution_count": 155,
   "id": "5c51b7e1-b1c7-4236-9245-477039aa0da9",
   "metadata": {},
   "outputs": [
    {
     "name": "stdout",
     "output_type": "stream",
     "text": [
      "First Name:  1000\n",
      "Last Name:  971\n"
     ]
    }
   ],
   "source": [
    "# This should not be happening because we have 1000 rows but we are only getting 971 unique full names, lets check individual name columns\n",
    "print('First Name: ', NCL['first_name'].value_counts().sum())\n",
    "print('Last Name: ', NCL['last_name'].value_counts().sum())\n",
    "# yes! last name has 971 columns only, so there are 1000-971=29 missing values in column last_name"
   ]
  },
  {
   "cell_type": "code",
   "execution_count": 159,
   "id": "ad159ab6-0c16-4fce-9eab-3d4ccd486925",
   "metadata": {},
   "outputs": [
    {
     "name": "stdout",
     "output_type": "stream",
     "text": [
      "No of Empty cells for each column: \n"
     ]
    },
    {
     "data": {
      "text/plain": [
       "first_name                               0\n",
       "last_name                               29\n",
       "gender                                   0\n",
       "past_3_years_bike_related_purchases      0\n",
       "DOB                                     17\n",
       "job_title                              106\n",
       "job_industry_category                  165\n",
       "wealth_segment                           0\n",
       "deceased_indicator                       0\n",
       "owns_car                                 0\n",
       "tenure                                   0\n",
       "address                                  0\n",
       "postcode                                 0\n",
       "state                                    0\n",
       "country                                  0\n",
       "property_valuation                       0\n",
       "Unnamed: 16                              0\n",
       "Unnamed: 17                              0\n",
       "Unnamed: 18                              0\n",
       "Unnamed: 19                              0\n",
       "Unnamed: 20                              0\n",
       "Rank                                     0\n",
       "Value                                    0\n",
       "full_name                               29\n",
       "dtype: int64"
      ]
     },
     "execution_count": 159,
     "metadata": {},
     "output_type": "execute_result"
    }
   ],
   "source": [
    "#I think it will be better to check for null values beforehand so that we already know what to expect better\n",
    "print('No of Empty cells for each column: ')\n",
    "NCL.isna().sum()"
   ]
  },
  {
   "cell_type": "code",
   "execution_count": 68,
   "id": "730a122c-ab7f-4d4d-b755-faddac3952a0",
   "metadata": {},
   "outputs": [
    {
     "name": "stdout",
     "output_type": "stream",
     "text": [
      "<class 'pandas.core.frame.DataFrame'>\n",
      "RangeIndex: 4000 entries, 0 to 3999\n",
      "Data columns (total 13 columns):\n",
      " #   Column                               Non-Null Count  Dtype         \n",
      "---  ------                               --------------  -----         \n",
      " 0   customer_id                          4000 non-null   int64         \n",
      " 1   first_name                           4000 non-null   object        \n",
      " 2   last_name                            3875 non-null   object        \n",
      " 3   gender                               4000 non-null   object        \n",
      " 4   past_3_years_bike_related_purchases  4000 non-null   int64         \n",
      " 5   DOB                                  3913 non-null   datetime64[ns]\n",
      " 6   job_title                            3494 non-null   object        \n",
      " 7   job_industry_category                3344 non-null   object        \n",
      " 8   wealth_segment                       4000 non-null   object        \n",
      " 9   deceased_indicator                   4000 non-null   object        \n",
      " 10  default                              3698 non-null   object        \n",
      " 11  owns_car                             4000 non-null   object        \n",
      " 12  tenure                               3913 non-null   float64       \n",
      "dtypes: datetime64[ns](1), float64(1), int64(2), object(9)\n",
      "memory usage: 406.4+ KB\n"
     ]
    }
   ],
   "source": [
    "# checking out the datastypes of each variable\n",
    "CD.info()"
   ]
  },
  {
   "cell_type": "code",
   "execution_count": null,
   "id": "d19eb010-0e0a-4fb2-a729-db1d313b8fa2",
   "metadata": {},
   "outputs": [],
   "source": []
  }
 ],
 "metadata": {
  "kernelspec": {
   "display_name": "Python 3 (ipykernel)",
   "language": "python",
   "name": "python3"
  },
  "language_info": {
   "codemirror_mode": {
    "name": "ipython",
    "version": 3
   },
   "file_extension": ".py",
   "mimetype": "text/x-python",
   "name": "python",
   "nbconvert_exporter": "python",
   "pygments_lexer": "ipython3",
   "version": "3.9.12"
  }
 },
 "nbformat": 4,
 "nbformat_minor": 5
}
